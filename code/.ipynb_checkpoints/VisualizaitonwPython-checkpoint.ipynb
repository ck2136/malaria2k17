{
 "cells": [
  {
   "cell_type": "markdown",
   "metadata": {},
   "source": [
    "# This file is to visualize incidence of malaria in Mozambique"
   ]
  },
  {
   "cell_type": "code",
   "execution_count": 1,
   "metadata": {},
   "outputs": [],
   "source": [
    "import plotly.plotly as py\n",
    "import pandas as pd\n",
    "import shapefile"
   ]
  },
  {
   "cell_type": "code",
   "execution_count": 39,
   "metadata": {},
   "outputs": [],
   "source": [
    "# load files\n",
    "sf = shapefile.Reader(\"../data/Moz_admin2.shp\")\n",
    "inc = pd.read_csv(\"../data/incidence.csv\")\n",
    "iv = pd.read_csv(\"../data/intervention.csv\")"
   ]
  },
  {
   "cell_type": "code",
   "execution_count": 40,
   "metadata": {},
   "outputs": [],
   "source": [
    "# query method\n",
    "temp = inc.query(\"Epiyear == 2010 and Epiweek == 1\")"
   ]
  },
  {
   "cell_type": "code",
   "execution_count": 41,
   "metadata": {},
   "outputs": [
    {
     "data": {
      "text/html": [
       "<div>\n",
       "<style>\n",
       "    .dataframe thead tr:only-child th {\n",
       "        text-align: right;\n",
       "    }\n",
       "\n",
       "    .dataframe thead th {\n",
       "        text-align: left;\n",
       "    }\n",
       "\n",
       "    .dataframe tbody tr th {\n",
       "        vertical-align: top;\n",
       "    }\n",
       "</style>\n",
       "<table border=\"1\" class=\"dataframe\">\n",
       "  <thead>\n",
       "    <tr style=\"text-align: right;\">\n",
       "      <th></th>\n",
       "      <th>DISTCODE</th>\n",
       "      <th>Epiyear</th>\n",
       "      <th>Epiweek</th>\n",
       "      <th>SQKM</th>\n",
       "      <th>Province</th>\n",
       "      <th>Region</th>\n",
       "      <th>u5total</th>\n",
       "      <th>District</th>\n",
       "      <th>XCOORD</th>\n",
       "      <th>YCOORD</th>\n",
       "      <th>cases</th>\n",
       "    </tr>\n",
       "  </thead>\n",
       "  <tbody>\n",
       "    <tr>\n",
       "      <th>0</th>\n",
       "      <td>101</td>\n",
       "      <td>2010</td>\n",
       "      <td>1</td>\n",
       "      <td>2.564418e+05</td>\n",
       "      <td>NIASSA</td>\n",
       "      <td>Northern</td>\n",
       "      <td>30191.0</td>\n",
       "      <td>CIDADE DE LICHINGA</td>\n",
       "      <td>35.246982</td>\n",
       "      <td>-13.297012</td>\n",
       "      <td>445.0</td>\n",
       "    </tr>\n",
       "    <tr>\n",
       "      <th>487</th>\n",
       "      <td>102</td>\n",
       "      <td>2010</td>\n",
       "      <td>1</td>\n",
       "      <td>5.343909e+06</td>\n",
       "      <td>NIASSA</td>\n",
       "      <td>Northern</td>\n",
       "      <td>35702.0</td>\n",
       "      <td>CUAMBA</td>\n",
       "      <td>36.544848</td>\n",
       "      <td>-14.747815</td>\n",
       "      <td>1538.0</td>\n",
       "    </tr>\n",
       "    <tr>\n",
       "      <th>809</th>\n",
       "      <td>103</td>\n",
       "      <td>2010</td>\n",
       "      <td>1</td>\n",
       "      <td>6.592964e+06</td>\n",
       "      <td>NIASSA</td>\n",
       "      <td>Northern</td>\n",
       "      <td>16626.0</td>\n",
       "      <td>LAGO</td>\n",
       "      <td>34.990049</td>\n",
       "      <td>-12.303186</td>\n",
       "      <td>1323.0</td>\n",
       "    </tr>\n",
       "    <tr>\n",
       "      <th>1214</th>\n",
       "      <td>104</td>\n",
       "      <td>2010</td>\n",
       "      <td>1</td>\n",
       "      <td>5.417535e+06</td>\n",
       "      <td>NIASSA</td>\n",
       "      <td>Northern</td>\n",
       "      <td>21059.0</td>\n",
       "      <td>LICHINGA</td>\n",
       "      <td>35.290601</td>\n",
       "      <td>-13.394913</td>\n",
       "      <td>1162.0</td>\n",
       "    </tr>\n",
       "    <tr>\n",
       "      <th>1589</th>\n",
       "      <td>105</td>\n",
       "      <td>2010</td>\n",
       "      <td>1</td>\n",
       "      <td>1.129817e+07</td>\n",
       "      <td>NIASSA</td>\n",
       "      <td>Northern</td>\n",
       "      <td>5813.0</td>\n",
       "      <td>MAJUNE</td>\n",
       "      <td>36.373650</td>\n",
       "      <td>-13.320555</td>\n",
       "      <td>159.0</td>\n",
       "    </tr>\n",
       "  </tbody>\n",
       "</table>\n",
       "</div>"
      ],
      "text/plain": [
       "      DISTCODE  Epiyear  Epiweek          SQKM Province    Region  u5total  \\\n",
       "0          101     2010        1  2.564418e+05   NIASSA  Northern  30191.0   \n",
       "487        102     2010        1  5.343909e+06   NIASSA  Northern  35702.0   \n",
       "809        103     2010        1  6.592964e+06   NIASSA  Northern  16626.0   \n",
       "1214       104     2010        1  5.417535e+06   NIASSA  Northern  21059.0   \n",
       "1589       105     2010        1  1.129817e+07   NIASSA  Northern   5813.0   \n",
       "\n",
       "                District     XCOORD     YCOORD   cases  \n",
       "0     CIDADE DE LICHINGA  35.246982 -13.297012   445.0  \n",
       "487               CUAMBA  36.544848 -14.747815  1538.0  \n",
       "809                 LAGO  34.990049 -12.303186  1323.0  \n",
       "1214            LICHINGA  35.290601 -13.394913  1162.0  \n",
       "1589              MAJUNE  36.373650 -13.320555   159.0  "
      ]
     },
     "execution_count": 41,
     "metadata": {},
     "output_type": "execute_result"
    }
   ],
   "source": [
    "temp[:5]"
   ]
  },
  {
   "cell_type": "code",
   "execution_count": 42,
   "metadata": {},
   "outputs": [
    {
     "data": {
      "text/html": [
       "<div>\n",
       "<style>\n",
       "    .dataframe thead tr:only-child th {\n",
       "        text-align: right;\n",
       "    }\n",
       "\n",
       "    .dataframe thead th {\n",
       "        text-align: left;\n",
       "    }\n",
       "\n",
       "    .dataframe tbody tr th {\n",
       "        vertical-align: top;\n",
       "    }\n",
       "</style>\n",
       "<table border=\"1\" class=\"dataframe\">\n",
       "  <thead>\n",
       "    <tr style=\"text-align: right;\">\n",
       "      <th></th>\n",
       "      <th>DISTCODE</th>\n",
       "      <th>Epiyear</th>\n",
       "      <th>Epiweek</th>\n",
       "      <th>SQKM</th>\n",
       "      <th>Province</th>\n",
       "      <th>Region</th>\n",
       "      <th>u5total</th>\n",
       "      <th>District</th>\n",
       "      <th>XCOORD</th>\n",
       "      <th>YCOORD</th>\n",
       "      <th>cases</th>\n",
       "    </tr>\n",
       "  </thead>\n",
       "  <tbody>\n",
       "    <tr>\n",
       "      <th>0</th>\n",
       "      <td>101</td>\n",
       "      <td>2010</td>\n",
       "      <td>1</td>\n",
       "      <td>256441.8321</td>\n",
       "      <td>NIASSA</td>\n",
       "      <td>Northern</td>\n",
       "      <td>30191.0</td>\n",
       "      <td>CIDADE DE LICHINGA</td>\n",
       "      <td>35.246982</td>\n",
       "      <td>-13.297012</td>\n",
       "      <td>445.0</td>\n",
       "    </tr>\n",
       "    <tr>\n",
       "      <th>1</th>\n",
       "      <td>101</td>\n",
       "      <td>2011</td>\n",
       "      <td>26</td>\n",
       "      <td>256441.8321</td>\n",
       "      <td>NIASSA</td>\n",
       "      <td>Northern</td>\n",
       "      <td>31554.0</td>\n",
       "      <td>CIDADE DE LICHINGA</td>\n",
       "      <td>35.246982</td>\n",
       "      <td>-13.297012</td>\n",
       "      <td>248.0</td>\n",
       "    </tr>\n",
       "    <tr>\n",
       "      <th>2</th>\n",
       "      <td>101</td>\n",
       "      <td>2012</td>\n",
       "      <td>51</td>\n",
       "      <td>256441.8321</td>\n",
       "      <td>NIASSA</td>\n",
       "      <td>Northern</td>\n",
       "      <td>32991.0</td>\n",
       "      <td>CIDADE DE LICHINGA</td>\n",
       "      <td>35.246982</td>\n",
       "      <td>-13.297012</td>\n",
       "      <td>519.0</td>\n",
       "    </tr>\n",
       "    <tr>\n",
       "      <th>3</th>\n",
       "      <td>101</td>\n",
       "      <td>2014</td>\n",
       "      <td>24</td>\n",
       "      <td>256441.8321</td>\n",
       "      <td>NIASSA</td>\n",
       "      <td>Northern</td>\n",
       "      <td>36044.0</td>\n",
       "      <td>CIDADE DE LICHINGA</td>\n",
       "      <td>35.246982</td>\n",
       "      <td>-13.297012</td>\n",
       "      <td>275.0</td>\n",
       "    </tr>\n",
       "    <tr>\n",
       "      <th>4</th>\n",
       "      <td>101</td>\n",
       "      <td>2016</td>\n",
       "      <td>13</td>\n",
       "      <td>256441.8321</td>\n",
       "      <td>NIASSA</td>\n",
       "      <td>Northern</td>\n",
       "      <td>37304.0</td>\n",
       "      <td>CIDADE DE LICHINGA</td>\n",
       "      <td>35.246982</td>\n",
       "      <td>-13.297012</td>\n",
       "      <td>597.0</td>\n",
       "    </tr>\n",
       "  </tbody>\n",
       "</table>\n",
       "</div>"
      ],
      "text/plain": [
       "   DISTCODE  Epiyear  Epiweek         SQKM Province    Region  u5total  \\\n",
       "0       101     2010        1  256441.8321   NIASSA  Northern  30191.0   \n",
       "1       101     2011       26  256441.8321   NIASSA  Northern  31554.0   \n",
       "2       101     2012       51  256441.8321   NIASSA  Northern  32991.0   \n",
       "3       101     2014       24  256441.8321   NIASSA  Northern  36044.0   \n",
       "4       101     2016       13  256441.8321   NIASSA  Northern  37304.0   \n",
       "\n",
       "             District     XCOORD     YCOORD  cases  \n",
       "0  CIDADE DE LICHINGA  35.246982 -13.297012  445.0  \n",
       "1  CIDADE DE LICHINGA  35.246982 -13.297012  248.0  \n",
       "2  CIDADE DE LICHINGA  35.246982 -13.297012  519.0  \n",
       "3  CIDADE DE LICHINGA  35.246982 -13.297012  275.0  \n",
       "4  CIDADE DE LICHINGA  35.246982 -13.297012  597.0  "
      ]
     },
     "execution_count": 42,
     "metadata": {},
     "output_type": "execute_result"
    }
   ],
   "source": [
    "inc[:5] # 1st 5 incidence original data has lots more "
   ]
  },
  {
   "cell_type": "code",
   "execution_count": 28,
   "metadata": {},
   "outputs": [],
   "source": [
    "inc.drop_duplicates(subset='DISTCODE', inplace=True)"
   ]
  },
  {
   "cell_type": "code",
   "execution_count": 34,
   "metadata": {},
   "outputs": [],
   "source": [
    "inc['text'] = inc['District'] + ', ' + inc['Region'] + '' + inc['Province'] + '' + 'Cases: ' + inc['cases'].astype(str)"
   ]
  },
  {
   "cell_type": "code",
   "execution_count": 35,
   "metadata": {},
   "outputs": [],
   "source": [
    "# color scale\n",
    "scl = [ [0,\"rgb(5, 10, 172)\"],[0.35,\"rgb(40, 60, 190)\"],[0.5,\"rgb(70, 100, 245)\"],\\\n",
    "    [0.6,\"rgb(90, 120, 245)\"],[0.7,\"rgb(106, 137, 247)\"],[1,\"rgb(220, 220, 220)\"] ]"
   ]
  },
  {
   "cell_type": "code",
   "execution_count": 36,
   "metadata": {},
   "outputs": [],
   "source": [
    "data = [ dict(\n",
    "        type = 'scattergeo',\n",
    "        locationmode = 'Mozambique-District',\n",
    "        lon = inc['XCOORD'],\n",
    "        lat = inc['YCOORD'],\n",
    "        text = inc['text'],\n",
    "        mode = 'markers',\n",
    "        marker = dict(\n",
    "            size = 8,\n",
    "            opacity = 0.8,\n",
    "            reversescale = True,\n",
    "            autocolorscale = False,\n",
    "            symbol = 'square',\n",
    "            line = dict(\n",
    "                width=1,\n",
    "                color='rgba(102, 102, 102)'\n",
    "            ),\n",
    "            colorscale = scl,\n",
    "            cmin = 0,\n",
    "            color = inc['cases'],\n",
    "            cmax = inc['cases'].max(),\n",
    "            colorbar=dict(\n",
    "                title=\"Mozambique Incidence of Malaria\"\n",
    "            )\n",
    "        ))]"
   ]
  },
  {
   "cell_type": "code",
   "execution_count": 37,
   "metadata": {},
   "outputs": [],
   "source": [
    "layout = dict(\n",
    "        title = 'Mozambique Districts <br>(Hover for District Coordinates)',\n",
    "        colorbar = True,\n",
    "        geo = dict(\n",
    "            scope='mozambique',\n",
    "            projection=dict( type='albers mozambique' ),\n",
    "            showland = True,\n",
    "            landcolor = \"rgb(250, 250, 250)\",\n",
    "            subunitcolor = \"rgb(217, 217, 217)\",\n",
    "            countrycolor = \"rgb(217, 217, 217)\",\n",
    "            countrywidth = 0.5,\n",
    "            subunitwidth = 0.5\n",
    "        ),\n",
    "    )"
   ]
  },
  {
   "cell_type": "code",
   "execution_count": 38,
   "metadata": {},
   "outputs": [
    {
     "data": {
      "text/html": [
       "<iframe id=\"igraph\" scrolling=\"no\" style=\"border:none;\" seamless=\"seamless\" src=\"https://plot.ly/~ck2136/6.embed\" height=\"525px\" width=\"100%\"></iframe>"
      ],
      "text/plain": [
       "<plotly.tools.PlotlyDisplay object>"
      ]
     },
     "execution_count": 38,
     "metadata": {},
     "output_type": "execute_result"
    }
   ],
   "source": [
    "fig = { 'data':data, 'layout':layout }\n",
    "py.iplot(fig, validate=False)"
   ]
  }
 ],
 "metadata": {
  "kernelspec": {
   "display_name": "Python 3",
   "language": "python",
   "name": "python3"
  },
  "language_info": {
   "codemirror_mode": {
    "name": "ipython",
    "version": 3
   },
   "file_extension": ".py",
   "mimetype": "text/x-python",
   "name": "python",
   "nbconvert_exporter": "python",
   "pygments_lexer": "ipython3",
   "version": "3.6.1"
  }
 },
 "nbformat": 4,
 "nbformat_minor": 2
}
